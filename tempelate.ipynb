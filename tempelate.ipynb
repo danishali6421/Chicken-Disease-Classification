{
 "cells": [
  {
   "cell_type": "code",
   "execution_count": 1,
   "id": "5a8b179a",
   "metadata": {},
   "outputs": [],
   "source": [
    "import os\n",
    "from pathlib import Path\n",
    "import logging"
   ]
  },
  {
   "cell_type": "code",
   "execution_count": 7,
   "id": "d2a681bc",
   "metadata": {},
   "outputs": [
    {
     "name": "stderr",
     "output_type": "stream",
     "text": [
      "[2023-10-27 16:02:13,514]: Creating directory; .github\\workflows for the file: .gitkeep:\n",
      "[2023-10-27 16:02:13,519]: Creating empty file: .github\\workflows\\.gitkeep:\n",
      "[2023-10-27 16:02:13,520]: Creating directory; src\\cnnClassifier for the file: __init__.py:\n",
      "[2023-10-27 16:02:13,529]: Creating empty file: src\\cnnClassifier\\__init__.py:\n",
      "[2023-10-27 16:02:13,532]: Creating directory; src\\cnnClassifier\\components for the file: __init__.py:\n",
      "[2023-10-27 16:02:13,536]: Creating empty file: src\\cnnClassifier\\components\\__init__.py:\n",
      "[2023-10-27 16:02:13,536]: Creating directory; src\\cnnClassifier\\utils for the file: __init__.py:\n",
      "[2023-10-27 16:02:13,542]: Creating empty file: src\\cnnClassifier\\utils\\__init__.py:\n",
      "[2023-10-27 16:02:13,548]: Creating directory; src\\cnnClassifier\\config for the file: __init__.py:\n",
      "[2023-10-27 16:02:13,551]: Creating empty file: src\\cnnClassifier\\config\\__init__.py:\n",
      "[2023-10-27 16:02:13,554]: Creating directory; src\\cnnClassifier\\config for the file: configuration.py:\n",
      "[2023-10-27 16:02:13,562]: Creating empty file: src\\cnnClassifier\\config\\configuration.py:\n",
      "[2023-10-27 16:02:13,567]: Creating directory; src\\cnnClassifier\\pipeline for the file: __init__.py:\n",
      "[2023-10-27 16:02:13,569]: Creating empty file: src\\cnnClassifier\\pipeline\\__init__.py:\n",
      "[2023-10-27 16:02:13,579]: Creating directory; src\\cnnClassifier\\entity for the file: __init__.py:\n",
      "[2023-10-27 16:02:13,583]: Creating empty file: src\\cnnClassifier\\entity\\__init__.py:\n",
      "[2023-10-27 16:02:13,583]: Creating directory; src\\cnnClassifier\\constants for the file: __init__.py:\n",
      "[2023-10-27 16:02:13,591]: Creating empty file: src\\cnnClassifier\\constants\\__init__.py:\n",
      "[2023-10-27 16:02:13,597]: Creating directory; config for the file: config.yaml:\n",
      "[2023-10-27 16:02:13,600]: Creating empty file: config\\config.yaml:\n",
      "[2023-10-27 16:02:13,600]: Creating empty file: dvc.yaml:\n",
      "[2023-10-27 16:02:13,610]: Creating empty file: params.yaml:\n",
      "[2023-10-27 16:02:13,614]: Creating empty file: requirements.txt:\n",
      "[2023-10-27 16:02:13,618]: Creating empty file: setup.py:\n",
      "[2023-10-27 16:02:13,619]: Creating directory; research for the file: trials.ipynb:\n",
      "[2023-10-27 16:02:13,619]: Creating empty file: research\\trials.ipynb:\n",
      "[2023-10-27 16:02:13,631]: Creating directory; templates for the file: index.html:\n",
      "[2023-10-27 16:02:13,634]: Creating empty file: templates\\index.html:\n"
     ]
    }
   ],
   "source": [
    "logging.basicConfig(level=logging.INFO, format='[%(asctime)s]: %(message)s:')\n",
    "\n",
    "\n",
    "project_name = \"cnnClassifier\"\n",
    "\n",
    "list_of_files = [\n",
    "    \".github/workflows/.gitkeep\",\n",
    "    f\"src/{project_name}/__init__.py\",\n",
    "    f\"src/{project_name}/components/__init__.py\",\n",
    "    f\"src/{project_name}/utils/__init__.py\",\n",
    "    f\"src/{project_name}/config/__init__.py\",\n",
    "    f\"src/{project_name}/config/configuration.py\",\n",
    "    f\"src/{project_name}/pipeline/__init__.py\",\n",
    "    f\"src/{project_name}/entity/__init__.py\",\n",
    "    f\"src/{project_name}/constants/__init__.py\",\n",
    "    \"config/config.yaml\",\n",
    "    \"dvc.yaml\",\n",
    "    \"params.yaml\",\n",
    "    \"requirements.txt\",\n",
    "    \"setup.py\",\n",
    "    \"research/trials.ipynb\",\n",
    "    \"templates/index.html\",\n",
    "    \"\"\n",
    "\n",
    "\n",
    "]\n",
    "\n",
    "\n",
    "for filepath in list_of_files:\n",
    "    filepath = Path(filepath)\n",
    "    filedir, filename = os.path.split(filepath)\n",
    "\n",
    "\n",
    "    if filedir !=\"\":\n",
    "        os.makedirs(filedir, exist_ok=True)\n",
    "        logging.info(f\"Creating directory; {filedir} for the file: {filename}\")\n",
    "\n",
    "    if (not os.path.exists(filepath)) or (os.path.getsize(filepath) == 0):\n",
    "        with open(filepath, \"w\") as f:\n",
    "            pass\n",
    "            logging.info(f\"Creating empty file: {filepath}\")\n",
    "\n",
    "\n",
    "    else:\n",
    "        logging.info(f\"{filename} is already exists\")"
   ]
  },
  {
   "cell_type": "code",
   "execution_count": null,
   "id": "71fadc35",
   "metadata": {},
   "outputs": [],
   "source": []
  }
 ],
 "metadata": {
  "kernelspec": {
   "display_name": "Python 3 (ipykernel)",
   "language": "python",
   "name": "python3"
  },
  "language_info": {
   "codemirror_mode": {
    "name": "ipython",
    "version": 3
   },
   "file_extension": ".py",
   "mimetype": "text/x-python",
   "name": "python",
   "nbconvert_exporter": "python",
   "pygments_lexer": "ipython3",
   "version": "3.9.0"
  }
 },
 "nbformat": 4,
 "nbformat_minor": 5
}
