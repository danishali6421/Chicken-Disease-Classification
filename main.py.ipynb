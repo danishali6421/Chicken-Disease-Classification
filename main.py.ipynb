{
 "cells": [
  {
   "cell_type": "code",
   "execution_count": 9,
   "id": "12861765",
   "metadata": {},
   "outputs": [],
   "source": [
    "from cnnClassifier import logger"
   ]
  },
  {
   "cell_type": "code",
   "execution_count": 10,
   "id": "2b0d0638",
   "metadata": {},
   "outputs": [
    {
     "name": "stdout",
     "output_type": "stream",
     "text": [
      "[2023-10-28 17:29:12,709: INFO: 1753854304: Welcome to my custom logs]\n"
     ]
    }
   ],
   "source": [
    "logger.info(\"Welcome to my custom logs\")"
   ]
  },
  {
   "cell_type": "code",
   "execution_count": null,
   "id": "86d78d3c",
   "metadata": {},
   "outputs": [],
   "source": []
  }
 ],
 "metadata": {
  "kernelspec": {
   "display_name": "Python 3 (ipykernel)",
   "language": "python",
   "name": "python3"
  },
  "language_info": {
   "codemirror_mode": {
    "name": "ipython",
    "version": 3
   },
   "file_extension": ".py",
   "mimetype": "text/x-python",
   "name": "python",
   "nbconvert_exporter": "python",
   "pygments_lexer": "ipython3",
   "version": "3.9.0"
  }
 },
 "nbformat": 4,
 "nbformat_minor": 5
}
